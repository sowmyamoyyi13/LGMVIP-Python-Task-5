{
 "cells": [
  {
   "cell_type": "code",
   "execution_count": null,
   "id": "a1106847",
   "metadata": {},
   "outputs": [],
   "source": []
  },
  {
   "cell_type": "code",
   "execution_count": null,
   "id": "980f3a34",
   "metadata": {},
   "outputs": [
    {
     "name": "stdout",
     "output_type": "stream",
     "text": [
      "You: hi\n",
      "Bot: Hi there!\n",
      "You: bye\n",
      "Bot: Bye!\n"
     ]
    }
   ],
   "source": [
    "# Import necessary packages\n",
    "import nltk\n",
    "# nltk.download('wordnet')\n",
    "import nltk\n",
    "from nltk.tokenize import word_tokenize\n",
    "from nltk.stem import WordNetLemmatizer\n",
    "import numpy as np\n",
    "import random\n",
    "import pickle\n",
    "from collections import Counter\n",
    "from sklearn.feature_extraction.text import TfidfVectorizer\n",
    "from sklearn.metrics.pairwise import cosine_similarity\n",
    "\n",
    "# Initialize NLTK's WordNetLemmatizer\n",
    "lemmatizer = WordNetLemmatizer()\n",
    "\n",
    "# Sample dataset of intents and responses\n",
    "intents = {\n",
    "    \"greeting\": {\"patterns\": [\"hello\", \"hi\", \"hey\"], \"responses\": [\"Hello!\", \"Hi there!\", \"Hey!\"]},\n",
    "    \"goodbye\": {\"patterns\": [\"bye\", \"farewell\"], \"responses\": [\"Goodbye!\", \"See you later!\", \"Bye!\"]},\n",
    "    \"thanks\": {\"patterns\": [\"thank you\", \"thanks\"], \"responses\": [\"You're welcome!\", \"Anytime!\", \"Glad I could help!\"]}\n",
    "}\n",
    "\n",
    "# Tokenize and lemmatize the patterns\n",
    "def preprocess_text(text):\n",
    "    tokens = word_tokenize(text.lower())\n",
    "    tokens = [lemmatizer.lemmatize(token) for token in tokens]\n",
    "    return tokens\n",
    "\n",
    "# Preprocess the patterns and create training data\n",
    "training_data = []\n",
    "output_labels = []\n",
    "for intent, data in intents.items():\n",
    "    for pattern in data[\"patterns\"]:\n",
    "        tokens = preprocess_text(pattern)\n",
    "        training_data.append(\" \".join(tokens))\n",
    "        output_labels.append(intent)\n",
    "\n",
    "# Vectorize the training data\n",
    "vectorizer = TfidfVectorizer()\n",
    "X = vectorizer.fit_transform(training_data)\n",
    "\n",
    "# Train a simple classifier (here we're using cosine similarity)\n",
    "classifier = cosine_similarity(X)\n",
    "\n",
    "# Save the classifier and vectorizer as pickle files\n",
    "with open(\"classifier.pkl\", \"wb\") as f:\n",
    "    pickle.dump(classifier, f)\n",
    "with open(\"vectorizer.pkl\", \"wb\") as f:\n",
    "    pickle.dump(vectorizer, f)\n",
    "\n",
    "# Function to get response from the chatbot\n",
    "def get_response(text):\n",
    "    # Preprocess input text\n",
    "    tokens = preprocess_text(text)\n",
    "    input_vector = vectorizer.transform([\" \".join(tokens)])\n",
    "    # Calculate similarity between input and training data\n",
    "    similarities = cosine_similarity(input_vector, X)\n",
    "    # Get index of highest similarity\n",
    "    index = np.argmax(similarities)\n",
    "    # Get corresponding intent label\n",
    "    intent_label = output_labels[index]\n",
    "    # Choose a random response from intents\n",
    "    response = random.choice(intents[intent_label][\"responses\"])\n",
    "    return response\n",
    "\n",
    "# Test the chatbot\n",
    "while True:\n",
    "    user_input = input(\"You: \")\n",
    "    if user_input.lower() == \"exit\":\n",
    "        break\n",
    "    response = get_response(user_input)\n",
    "    print(\"Bot:\", response)\n"
   ]
  },
  {
   "cell_type": "code",
   "execution_count": null,
   "id": "711a2444",
   "metadata": {},
   "outputs": [],
   "source": []
  }
 ],
 "metadata": {
  "kernelspec": {
   "display_name": "Python 3 (ipykernel)",
   "language": "python",
   "name": "python3"
  },
  "language_info": {
   "codemirror_mode": {
    "name": "ipython",
    "version": 3
   },
   "file_extension": ".py",
   "mimetype": "text/x-python",
   "name": "python",
   "nbconvert_exporter": "python",
   "pygments_lexer": "ipython3",
   "version": "3.11.5"
  }
 },
 "nbformat": 4,
 "nbformat_minor": 5
}
